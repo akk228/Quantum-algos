{
 "cells": [
  {
   "cell_type": "code",
   "execution_count": null,
   "id": "e323f157",
   "metadata": {},
   "outputs": [],
   "source": [
    "pip install qiskit"
   ]
  },
  {
   "cell_type": "code",
   "execution_count": null,
   "id": "27ac991c",
   "metadata": {},
   "outputs": [],
   "source": [
    "pip install matplotlib"
   ]
  },
  {
   "cell_type": "code",
   "execution_count": 5,
   "id": "19791af1",
   "metadata": {},
   "outputs": [],
   "source": [
    "from qiskit import QuantumCircuit, assemble, Aer\n",
    "from qiskit.visualization import plot_histogram\n",
    "\n",
    "def adder(a,b):\n",
    "    a = a%2\n",
    "    b = b%2\n",
    "    # Create Circuit with 4 qubits and two registers\n",
    "    qc =QuantumCircuit(4,2)\n",
    "    \n",
    "    if a == 1:\n",
    "        qc.x(0)\n",
    "    if b == 1:\n",
    "        qc.x(1)\n",
    "        \n",
    "    qc.barrier()\n",
    "    \n",
    "    # Compute first digit\n",
    "    qc.cx(0,2)\n",
    "    qc.cx(1,2)\n",
    "    \n",
    "    # Compute secon digit\n",
    "    \n",
    "    qc.ccx(0,1,3)\n",
    "    \n",
    "    qc.barrier()\n",
    "    \n",
    "    qc.measure(2,0) # Writes the first digit to the first register\n",
    "    qc.measure(3,1) # Write the secon digit to the second register\n",
    "    \n",
    "    return qc\n",
    "\n",
    "def run_circuit(qc):\n",
    "    sim = Aer.get_backend('aer_simulator') \n",
    "    result = sim.run(qc,shots=200).result()\n",
    "    counts = result.get_counts()\n",
    "    return counts"
   ]
  },
  {
   "cell_type": "code",
   "execution_count": 2,
   "id": "b16cd296",
   "metadata": {},
   "outputs": [
    {
     "data": {
      "text/html": [
       "<pre style=\"word-wrap: normal;white-space: pre;background: #fff0;line-height: 1.1;font-family: &quot;Courier New&quot;,Courier,monospace\">        ┌───┐ ░                 ░       \n",
       "q_0: |0>┤ X ├─░───■─────────■───░───────\n",
       "        ├───┤ ░   │         │   ░       \n",
       "q_1: |0>┤ X ├─░───┼────■────■───░───────\n",
       "        └───┘ ░ ┌─┴─┐┌─┴─┐  │   ░ ┌─┐   \n",
       "q_2: |0>──────░─┤ X ├┤ X ├──┼───░─┤M├───\n",
       "              ░ └───┘└───┘┌─┴─┐ ░ └╥┘┌─┐\n",
       "q_3: |0>──────░───────────┤ X ├─░──╫─┤M├\n",
       "              ░           └───┘ ░  ║ └╥┘\n",
       " c: 0 2/═══════════════════════════╩══╩═\n",
       "                                   0  1 </pre>"
      ],
      "text/plain": [
       "        ┌───┐ ░                 ░       \n",
       "q_0: |0>┤ X ├─░───■─────────■───░───────\n",
       "        ├───┤ ░   │         │   ░       \n",
       "q_1: |0>┤ X ├─░───┼────■────■───░───────\n",
       "        └───┘ ░ ┌─┴─┐┌─┴─┐  │   ░ ┌─┐   \n",
       "q_2: |0>──────░─┤ X ├┤ X ├──┼───░─┤M├───\n",
       "              ░ └───┘└───┘┌─┴─┐ ░ └╥┘┌─┐\n",
       "q_3: |0>──────░───────────┤ X ├─░──╫─┤M├\n",
       "              ░           └───┘ ░  ║ └╥┘\n",
       " c: 0 2/═══════════════════════════╩══╩═\n",
       "                                   0  1 "
      ]
     },
     "execution_count": 2,
     "metadata": {},
     "output_type": "execute_result"
    }
   ],
   "source": [
    "adder(1,1).draw(initial_state = True)"
   ]
  },
  {
   "cell_type": "code",
   "execution_count": 5,
   "id": "7d8236bf",
   "metadata": {},
   "outputs": [
    {
     "data": {
      "image/png": "[encoded data removed]",
      "text/plain": [
       "<Figure size 504x360 with 1 Axes>"
      ]
     },
     "execution_count": 5,
     "metadata": {},
     "output_type": "execute_result"
    }
   ],
   "source": [
    "plot_histogram(run_circuit(adder(1,1)))"
   ]
  },
  {
   "cell_type": "code",
   "execution_count": 6,
   "id": "240174a2",
   "metadata": {},
   "outputs": [
    {
     "data": {
      "text/plain": [
       "{'01': 200}"
      ]
     },
     "execution_count": 6,
     "metadata": {},
     "output_type": "execute_result"
    }
   ],
   "source": [
    "run_circuit(adder(0,1))"
   ]
  }
 ],
 "metadata": {
  "kernelspec": {
   "display_name": "Python 3 (ipykernel)",
   "language": "python",
   "name": "python3"
  },
  "language_info": {
   "codemirror_mode": {
    "name": "ipython",
    "version": 3
   },
   "file_extension": ".py",
   "mimetype": "text/x-python",
   "name": "python",
   "nbconvert_exporter": "python",
   "pygments_lexer": "ipython3",
   "version": "3.9.12"
  }
 },
 "nbformat": 4,
 "nbformat_minor": 5
}
