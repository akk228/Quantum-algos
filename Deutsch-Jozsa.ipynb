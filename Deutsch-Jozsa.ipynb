{
 "cells": [
  {
   "cell_type": "code",
   "execution_count": null,
   "metadata": {},
   "outputs": [],
   "source": [
    "pip install qiskit"
   ]
  },
  {
   "cell_type": "code",
   "execution_count": null,
   "metadata": {},
   "outputs": [],
   "source": [
    "pip install matplotlib"
   ]
  },
  {
   "cell_type": "code",
   "execution_count": 1,
   "metadata": {},
   "outputs": [],
   "source": [
    "from qiskit import QuantumCircuit, Aer, assemble\n",
    "from qiskit.visualization import plot_histogram\n",
    "simulation = Aer.get_backend('aer_simulator')"
   ]
  },
  {
   "cell_type": "code",
   "execution_count": 2,
   "metadata": {},
   "outputs": [],
   "source": [
    "def DJ(n):\n",
    "    qc = QuantumCircuit(n,n-1)\n",
    "\n",
    "    qc.x(0)\n",
    "    qc.barrier()\n",
    "\n",
    "    # f(x) = 0 for all x\n",
    "\n",
    "    for q in range(n):\n",
    "        qc.h(q)\n",
    "    \n",
    "    replies = ['b','c']\n",
    "    reply =''\n",
    "    while reply not in replies:\n",
    "        reply = input('If u want balanced type b for constant type c: ')\n",
    "        if reply not in replies:\n",
    "            print('Wrong input!')\n",
    "    \n",
    "    # f(x) - balanced\n",
    "    if reply == 'b':\n",
    "        for q in range(1,n):\n",
    "            qc.cx(q,0)  \n",
    "\n",
    "    qc.barrier()\n",
    "    \n",
    "    for q in range(1,n):\n",
    "        qc.h(q)\n",
    "\n",
    "    qc.barrier()\n",
    "    qc.measure([x for x in range(1,n)],[x for x in range(n-1)])\n",
    "\n",
    "    return qc\n",
    "\n",
    "def run(qc, Shots, sim=simulation):\n",
    "    job = assemble(qc)\n",
    "    results = simulation.run(job, shots=Shots).result()\n",
    "    return results"
   ]
  },
  {
   "cell_type": "code",
   "execution_count": 3,
   "metadata": {},
   "outputs": [
    {
     "name": "stdout",
     "output_type": "stream",
     "text": [
      "If u want balanced type b for constant type c: c\n"
     ]
    },
    {
     "data": {
      "text/html": [
       "<pre style=\"word-wrap: normal;white-space: pre;background: #fff0;line-height: 1.1;font-family: &quot;Courier New&quot;,Courier,monospace\">     ┌───┐ ░ ┌───┐ ░       ░                \n",
       "q_0: ┤ X ├─░─┤ H ├─░───────░────────────────\n",
       "     └───┘ ░ ├───┤ ░ ┌───┐ ░ ┌─┐            \n",
       "q_1: ──────░─┤ H ├─░─┤ H ├─░─┤M├────────────\n",
       "           ░ ├───┤ ░ ├───┤ ░ └╥┘┌─┐         \n",
       "q_2: ──────░─┤ H ├─░─┤ H ├─░──╫─┤M├─────────\n",
       "           ░ ├───┤ ░ ├───┤ ░  ║ └╥┘┌─┐      \n",
       "q_3: ──────░─┤ H ├─░─┤ H ├─░──╫──╫─┤M├──────\n",
       "           ░ ├───┤ ░ ├───┤ ░  ║  ║ └╥┘┌─┐   \n",
       "q_4: ──────░─┤ H ├─░─┤ H ├─░──╫──╫──╫─┤M├───\n",
       "           ░ ├───┤ ░ ├───┤ ░  ║  ║  ║ └╥┘┌─┐\n",
       "q_5: ──────░─┤ H ├─░─┤ H ├─░──╫──╫──╫──╫─┤M├\n",
       "           ░ └───┘ ░ └───┘ ░  ║  ║  ║  ║ └╥┘\n",
       "c: 5/═════════════════════════╩══╩══╩══╩══╩═\n",
       "                              0  1  2  3  4 </pre>"
      ],
      "text/plain": [
       "     ┌───┐ ░ ┌───┐ ░       ░                \n",
       "q_0: ┤ X ├─░─┤ H ├─░───────░────────────────\n",
       "     └───┘ ░ ├───┤ ░ ┌───┐ ░ ┌─┐            \n",
       "q_1: ──────░─┤ H ├─░─┤ H ├─░─┤M├────────────\n",
       "           ░ ├───┤ ░ ├───┤ ░ └╥┘┌─┐         \n",
       "q_2: ──────░─┤ H ├─░─┤ H ├─░──╫─┤M├─────────\n",
       "           ░ ├───┤ ░ ├───┤ ░  ║ └╥┘┌─┐      \n",
       "q_3: ──────░─┤ H ├─░─┤ H ├─░──╫──╫─┤M├──────\n",
       "           ░ ├───┤ ░ ├───┤ ░  ║  ║ └╥┘┌─┐   \n",
       "q_4: ──────░─┤ H ├─░─┤ H ├─░──╫──╫──╫─┤M├───\n",
       "           ░ ├───┤ ░ ├───┤ ░  ║  ║  ║ └╥┘┌─┐\n",
       "q_5: ──────░─┤ H ├─░─┤ H ├─░──╫──╫──╫──╫─┤M├\n",
       "           ░ └───┘ ░ └───┘ ░  ║  ║  ║  ║ └╥┘\n",
       "c: 5/═════════════════════════╩══╩══╩══╩══╩═\n",
       "                              0  1  2  3  4 "
      ]
     },
     "execution_count": 3,
     "metadata": {},
     "output_type": "execute_result"
    }
   ],
   "source": [
    "DJ(6).draw()"
   ]
  },
  {
   "cell_type": "code",
   "execution_count": 4,
   "metadata": {},
   "outputs": [
    {
     "name": "stdout",
     "output_type": "stream",
     "text": [
      "If u want balanced type b for constant type c: c\n"
     ]
    }
   ],
   "source": [
    "trial1 = run(DJ(6),30)"
   ]
  },
  {
   "cell_type": "code",
   "execution_count": 5,
   "metadata": {},
   "outputs": [
    {
     "name": "stdout",
     "output_type": "stream",
     "text": [
      "{'00000': 30}\n"
     ]
    },
    {
     "name": "stderr",
     "output_type": "stream",
     "text": [
      "Matplotlib is building the font cache; this may take a moment.\n",
      "Fontconfig warning: ignoring UTF-8: not a valid region tag\n"
     ]
    },
    {
     "data": {
      "image/png": "[encoded data removed]",
      "text/plain": [
       "<Figure size 504x360 with 1 Axes>"
      ]
     },
     "execution_count": 5,
     "metadata": {},
     "output_type": "execute_result"
    }
   ],
   "source": [
    "print(trial1.get_counts())\n",
    "plot_histogram(trial1.get_counts())"
   ]
  }
 ],
 "metadata": {
  "kernelspec": {
   "display_name": "Python 3 (ipykernel)",
   "language": "python",
   "name": "python3"
  },
  "language_info": {
   "codemirror_mode": {
    "name": "ipython",
    "version": 3
   },
   "file_extension": ".py",
   "mimetype": "text/x-python",
   "name": "python",
   "nbconvert_exporter": "python",
   "pygments_lexer": "ipython3",
   "version": "3.9.12"
  },
  "vscode": {
   "interpreter": {
    "hash": "aee8b7b246df8f9039afb4144a1f6fd8d2ca17a180786b69acc140d282b71a49"
   }
  }
 },
 "nbformat": 4,
 "nbformat_minor": 2
}
